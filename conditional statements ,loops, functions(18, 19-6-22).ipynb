{
 "cells": [
  {
   "cell_type": "code",
   "execution_count": 1,
   "id": "620484bf",
   "metadata": {},
   "outputs": [
    {
     "name": "stdout",
     "output_type": "stream",
     "text": [
      "300\n"
     ]
    }
   ],
   "source": [
    "# using if\n",
    "a = 100\n",
    "b = 200\n",
    "c = 300\n",
    "maax = a\n",
    "if b > maax:\n",
    "    maax = b\n",
    "if c > maax:\n",
    "    maax = c\n",
    "print(maax)"
   ]
  },
  {
   "cell_type": "code",
   "execution_count": 3,
   "id": "18496a12",
   "metadata": {},
   "outputs": [
    {
     "name": "stdout",
     "output_type": "stream",
     "text": [
      "enter a number1: 1\n",
      "enter a number2: 2\n",
      "enter a number3: 4\n",
      "4\n"
     ]
    }
   ],
   "source": [
    "# Using nested if\n",
    "a = int(input(\"enter a number1: \"))\n",
    "b = int(input(\"enter a number2: \"))\n",
    "c = int(input(\"enter a number3: \"))\n",
    "if(a > b):\n",
    "    if(a > c):\n",
    "        print(a)\n",
    "    else:\n",
    "        print(c)\n",
    "else:\n",
    "    if(b > c):\n",
    "        pritn(b)\n",
    "    else:\n",
    "        print(c)"
   ]
  },
  {
   "cell_type": "code",
   "execution_count": 5,
   "id": "3823e698",
   "metadata": {},
   "outputs": [
    {
     "name": "stdout",
     "output_type": "stream",
     "text": [
      "enter a number1: 5\n",
      "enter a number2: 6\n",
      "enter a number3: 7\n",
      "7\n"
     ]
    }
   ],
   "source": [
    "# Using elif\n",
    "a = int(input(\"enter a number1: \"))\n",
    "b = int(input(\"enter a number2: \"))\n",
    "c = int(input(\"enter a number3: \"))\n",
    "\n",
    "if (a > b and a > c):\n",
    "    print(a)\n",
    "elif(b > c):\n",
    "    print(b)\n",
    "else:\n",
    "    print(c)"
   ]
  },
  {
   "cell_type": "code",
   "execution_count": 7,
   "id": "6d96ee5f",
   "metadata": {},
   "outputs": [
    {
     "name": "stdout",
     "output_type": "stream",
     "text": [
      "1 2 3 4 5 6 7 8 9 10 \n",
      "10 9 8 7 6 5 4 3 2 1 "
     ]
    }
   ],
   "source": [
    "# for loop\n",
    "for i in range(1, 11):\n",
    "    print(i, end = ' ')\n",
    "print()\n",
    "for i in range(10, 0, -1):\n",
    "    print(i, end = ' ')\n"
   ]
  },
  {
   "cell_type": "code",
   "execution_count": 8,
   "id": "b3e1fdb1",
   "metadata": {},
   "outputs": [
    {
     "name": "stdout",
     "output_type": "stream",
     "text": [
      "1 2 3 4 5 6 7 8 9 10 \n",
      "10 9 8 7 6 5 4 3 2 1 "
     ]
    }
   ],
   "source": [
    "# while loop\n",
    "i = 1\n",
    "while(i <= 10):\n",
    "    print(i, end = ' ')\n",
    "    i = i+1\n",
    "print()\n",
    "\n",
    "i = 10\n",
    "while(i >= 1):\n",
    "    print(i, end = ' ')\n",
    "    i = i-1"
   ]
  },
  {
   "cell_type": "code",
   "execution_count": 12,
   "id": "87cf91a5",
   "metadata": {},
   "outputs": [
    {
     "name": "stdout",
     "output_type": "stream",
     "text": [
      "Enter a natural number: 10\n",
      "55\n"
     ]
    }
   ],
   "source": [
    "# Sum of n natural numbers\n",
    "summ = 0\n",
    "n = int(input('Enter a natural number: '))\n",
    "for i in range(0, n+1):\n",
    "    summ +=i\n",
    "print(summ)"
   ]
  },
  {
   "cell_type": "code",
   "execution_count": 20,
   "id": "0e66e194",
   "metadata": {},
   "outputs": [
    {
     "name": "stdout",
     "output_type": "stream",
     "text": [
      "Enter a value: 4\n",
      "2\n",
      "None\n"
     ]
    }
   ],
   "source": [
    "# nth fibonacci number\n",
    "def fib(n):\n",
    "    if(n == 0):\n",
    "        pritn('0')\n",
    "    elif(n ==1):\n",
    "        print('1')\n",
    "    else:\n",
    "        n1 = 0\n",
    "        n2 = 1\n",
    "    for i in range(2, n):\n",
    "        n3 = n1 + n2\n",
    "        n1, n2 = n2, n3\n",
    "    print(n3)\n",
    "\n",
    "n = int(input('Enter a value: '))\n",
    "print(fib(n))"
   ]
  },
  {
   "cell_type": "code",
   "execution_count": null,
   "id": "60c9c161",
   "metadata": {},
   "outputs": [],
   "source": []
  }
 ],
 "metadata": {
  "kernelspec": {
   "display_name": "Python 3 (ipykernel)",
   "language": "python",
   "name": "python3"
  },
  "language_info": {
   "codemirror_mode": {
    "name": "ipython",
    "version": 3
   },
   "file_extension": ".py",
   "mimetype": "text/x-python",
   "name": "python",
   "nbconvert_exporter": "python",
   "pygments_lexer": "ipython3",
   "version": "3.8.5"
  }
 },
 "nbformat": 4,
 "nbformat_minor": 5
}
