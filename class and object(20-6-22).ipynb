{
 "cells": [
  {
   "cell_type": "code",
   "execution_count": 4,
   "id": "6e8b460a",
   "metadata": {},
   "outputs": [
    {
     "name": "stdout",
     "output_type": "stream",
     "text": [
      "name\n",
      "12\n"
     ]
    }
   ],
   "source": [
    "class Student():\n",
    "    def __init__(self, name, id):\n",
    "        self.name = name\n",
    "        self.id = id\n",
    "    def display(self):\n",
    "        print(self.name)\n",
    "        print(self.id)\n",
    "\n",
    "obj = Student('name', 12)\n",
    "obj.display()"
   ]
  },
  {
   "cell_type": "code",
   "execution_count": null,
   "id": "4105f603",
   "metadata": {},
   "outputs": [],
   "source": []
  }
 ],
 "metadata": {
  "kernelspec": {
   "display_name": "Python 3 (ipykernel)",
   "language": "python",
   "name": "python3"
  },
  "language_info": {
   "codemirror_mode": {
    "name": "ipython",
    "version": 3
   },
   "file_extension": ".py",
   "mimetype": "text/x-python",
   "name": "python",
   "nbconvert_exporter": "python",
   "pygments_lexer": "ipython3",
   "version": "3.8.5"
  }
 },
 "nbformat": 4,
 "nbformat_minor": 5
}
