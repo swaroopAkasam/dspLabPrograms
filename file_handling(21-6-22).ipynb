{
 "cells": [
  {
   "cell_type": "code",
   "execution_count": 16,
   "id": "09b0ed1f",
   "metadata": {},
   "outputs": [
    {
     "name": "stdout",
     "output_type": "stream",
     "text": [
      "adding some extra content\n"
     ]
    },
    {
     "data": {
      "text/plain": [
       "True"
      ]
     },
     "execution_count": 16,
     "metadata": {},
     "output_type": "execute_result"
    }
   ],
   "source": [
    "f = open('C:\\Python\\Python38\\Practice_Programs\\demo.txt', 'r')\n",
    "print(f.read())\n",
    "f.close()\n",
    "f.closed"
   ]
  },
  {
   "cell_type": "code",
   "execution_count": 17,
   "id": "a0f500bb",
   "metadata": {},
   "outputs": [
    {
     "data": {
      "text/plain": [
       "'r'"
      ]
     },
     "execution_count": 17,
     "metadata": {},
     "output_type": "execute_result"
    }
   ],
   "source": [
    "f.mode"
   ]
  },
  {
   "cell_type": "code",
   "execution_count": 18,
   "id": "1d5e7fe0",
   "metadata": {},
   "outputs": [
    {
     "data": {
      "text/plain": [
       "'C:\\\\Python\\\\Python38\\\\Practice_Programs\\\\demo.txt'"
      ]
     },
     "execution_count": 18,
     "metadata": {},
     "output_type": "execute_result"
    }
   ],
   "source": [
    "f.name"
   ]
  },
  {
   "cell_type": "code",
   "execution_count": 11,
   "id": "a74ee477",
   "metadata": {},
   "outputs": [
    {
     "name": "stdout",
     "output_type": "stream",
     "text": [
      "adding some extra content\n"
     ]
    }
   ],
   "source": [
    "f = open('C:\\Python\\Python38\\Practice_Programs\\demo.txt', 'a')\n",
    "f.write('adding some extra content')\n",
    "f.close()\n",
    "\n",
    "f = open('C:\\Python\\Python38\\Practice_Programs\\demo.txt', 'r')\n",
    "print(f.read())\n",
    "f.close()"
   ]
  },
  {
   "cell_type": "code",
   "execution_count": 22,
   "id": "7efea19e",
   "metadata": {},
   "outputs": [
    {
     "data": {
      "text/plain": [
       "24"
      ]
     },
     "execution_count": 22,
     "metadata": {},
     "output_type": "execute_result"
    }
   ],
   "source": [
    "f = open('C:\\Python\\Python38\\Practice_Programs\\demo.txt', 'w')\n",
    "f.write('hai how are you \\n whtsup') #it returns the length of the string passed as an argument\n"
   ]
  },
  {
   "cell_type": "code",
   "execution_count": 24,
   "id": "ab1aaa64",
   "metadata": {},
   "outputs": [
    {
     "name": "stdout",
     "output_type": "stream",
     "text": [
      "hai how are you \n",
      " whtsup\n"
     ]
    }
   ],
   "source": [
    "f = open('C:\\Python\\Python38\\Practice_Programs\\demo.txt', 'r')\n",
    "print(f.read())\n",
    "f.close()"
   ]
  },
  {
   "cell_type": "code",
   "execution_count": 29,
   "id": "9e4b84c0",
   "metadata": {},
   "outputs": [],
   "source": [
    "f = open('C:\\Python\\Python38\\Practice_Programs\\demo.txt', 'w')\n",
    "lines = ['i am swaroop\\n', 'my id is s180106\\n', 'this is file operations']\n",
    "f.writelines(lines)\n",
    "f.close()"
   ]
  },
  {
   "cell_type": "code",
   "execution_count": 31,
   "id": "672c4ef1",
   "metadata": {},
   "outputs": [
    {
     "name": "stdout",
     "output_type": "stream",
     "text": [
      "i am swaroop\n",
      "my id is s180106\n",
      "this is file operations\n"
     ]
    }
   ],
   "source": [
    "f = open('C:\\Python\\Python38\\Practice_Programs\\demo.txt', 'r')\n",
    "print(f.read())\n",
    "f.close()"
   ]
  },
  {
   "cell_type": "code",
   "execution_count": 32,
   "id": "41858400",
   "metadata": {},
   "outputs": [],
   "source": [
    "f = open('C:\\Python\\Python38\\Practice_Programs\\demo.txt', 'a')\n",
    "lines2 = ['jupyter notebook\\n', 'practice']\n",
    "f.writelines(lines2)\n",
    "f.close()"
   ]
  },
  {
   "cell_type": "code",
   "execution_count": 33,
   "id": "0f412341",
   "metadata": {},
   "outputs": [
    {
     "name": "stdout",
     "output_type": "stream",
     "text": [
      "i am swaroop\n",
      "my id is s180106\n",
      "this is file operationsjupyter notebook\n",
      "practice\n"
     ]
    }
   ],
   "source": [
    "f = open('C:\\Python\\Python38\\Practice_Programs\\demo.txt', 'r')\n",
    "print(f.read())\n",
    "f.close()"
   ]
  },
  {
   "cell_type": "code",
   "execution_count": 48,
   "id": "35863d6e",
   "metadata": {},
   "outputs": [
    {
     "data": {
      "text/plain": [
       "'i am '"
      ]
     },
     "execution_count": 48,
     "metadata": {},
     "output_type": "execute_result"
    }
   ],
   "source": [
    "f = open('C:\\Python\\Python38\\Practice_Programs\\demo.txt', 'r')\n",
    "f.read(5)"
   ]
  },
  {
   "cell_type": "code",
   "execution_count": 49,
   "id": "ed111c08",
   "metadata": {},
   "outputs": [
    {
     "data": {
      "text/plain": [
       "'swaroop\\nmy'"
      ]
     },
     "execution_count": 49,
     "metadata": {},
     "output_type": "execute_result"
    }
   ],
   "source": [
    "f.read(10) #\\n will be treated as one character"
   ]
  },
  {
   "cell_type": "code",
   "execution_count": 50,
   "id": "b579f17a",
   "metadata": {},
   "outputs": [],
   "source": [
    "f.close()"
   ]
  },
  {
   "cell_type": "code",
   "execution_count": 53,
   "id": "7735547c",
   "metadata": {},
   "outputs": [
    {
     "name": "stdout",
     "output_type": "stream",
     "text": [
      "i am swaroop\n",
      "my id is s180106\n",
      "this is file operationsjupyter notebook\n",
      "practice\n"
     ]
    }
   ],
   "source": [
    "f = open('C:\\Python\\Python38\\Practice_Programs\\demo.txt', 'r')\n",
    "print(f.read())\n",
    "f.close()"
   ]
  },
  {
   "cell_type": "code",
   "execution_count": 59,
   "id": "a6770188",
   "metadata": {},
   "outputs": [
    {
     "name": "stdout",
     "output_type": "stream",
     "text": [
      "i am swaroop\n",
      "\n",
      "my id is s180106\n",
      "\n",
      "this is file operationsjupyter notebook\n",
      "\n"
     ]
    }
   ],
   "source": [
    "f = open('C:\\Python\\Python38\\Practice_Programs\\demo.txt', 'r')\n",
    "for i in range(3):\n",
    "    print(f.readline())\n",
    "f.close()"
   ]
  },
  {
   "cell_type": "code",
   "execution_count": 61,
   "id": "9369e485",
   "metadata": {
    "scrolled": true
   },
   "outputs": [
    {
     "name": "stdout",
     "output_type": "stream",
     "text": [
      "['i am swaroop\\n', 'my id is s180106\\n', 'this is file operationsjupyter notebook\\n', 'practice']\n"
     ]
    }
   ],
   "source": [
    "f = open('C:\\Python\\Python38\\Practice_Programs\\demo.txt', 'r')\n",
    "print(f.readlines())\n",
    "f.close()"
   ]
  },
  {
   "cell_type": "code",
   "execution_count": 63,
   "id": "5c621b8a",
   "metadata": {
    "scrolled": true
   },
   "outputs": [
    {
     "name": "stdout",
     "output_type": "stream",
     "text": [
      "my id is s180106\n",
      "\n"
     ]
    }
   ],
   "source": [
    "f = open('C:\\Python\\Python38\\Practice_Programs\\demo.txt', 'r')\n",
    "print(f.readlines()[1])\n",
    "f.close()"
   ]
  },
  {
   "cell_type": "code",
   "execution_count": 67,
   "id": "97358874",
   "metadata": {
    "scrolled": true
   },
   "outputs": [
    {
     "name": "stdout",
     "output_type": "stream",
     "text": [
      "['i', 'am', 'swaroop']\n",
      "['my', 'id', 'is', 's180106']\n",
      "['this', 'is', 'file', 'operationsjupyter', 'notebook']\n",
      "['practice']\n"
     ]
    }
   ],
   "source": [
    "f = open('C:\\Python\\Python38\\Practice_Programs\\demo.txt', 'r')\n",
    "x = f.readlines()\n",
    "for line in x:\n",
    "    words = line.split()\n",
    "    print(words)"
   ]
  },
  {
   "cell_type": "code",
   "execution_count": 72,
   "id": "92d0ec2e",
   "metadata": {},
   "outputs": [
    {
     "name": "stdout",
     "output_type": "stream",
     "text": [
      "['i am swaroop']\n",
      "['my id is s180106']\n",
      "['this is file operationsjupyter notebook']\n",
      "['practice']\n"
     ]
    }
   ],
   "source": [
    "f = open('C:\\Python\\Python38\\Practice_Programs\\demo.txt', 'r')\n",
    "x = f.readlines()\n",
    "for line in x:\n",
    "    words = line.splitlines() # each line is returned as element of a list\n",
    "    print(words)\n",
    "f.close()"
   ]
  },
  {
   "cell_type": "code",
   "execution_count": 103,
   "id": "f62caedf",
   "metadata": {},
   "outputs": [
    {
     "name": "stdout",
     "output_type": "stream",
     "text": [
      "Enter a sentence to write into the file: this is the first line\n"
     ]
    }
   ],
   "source": [
    "f_obj = open('first.txt', 'w')\n",
    "sentence = input('Enter a sentence to write into the file: ')\n",
    "f_obj.write(sentence)\n",
    "f_obj.close()\n"
   ]
  },
  {
   "cell_type": "code",
   "execution_count": 104,
   "id": "d1060f40",
   "metadata": {},
   "outputs": [
    {
     "name": "stdout",
     "output_type": "stream",
     "text": [
      "this is the first line\n"
     ]
    }
   ],
   "source": [
    "f_obj = open('first.txt', 'r')\n",
    "for s in f_obj:\n",
    "    print(s)\n",
    "f_obj.close()"
   ]
  },
  {
   "cell_type": "code",
   "execution_count": 105,
   "id": "f769263a",
   "metadata": {},
   "outputs": [
    {
     "name": "stdout",
     "output_type": "stream",
     "text": [
      "this is the first line\n",
      "the position of the file object is:  22\n"
     ]
    }
   ],
   "source": [
    "f_obj = open('first.txt', 'r')\n",
    "s = f_obj.read()\n",
    "print(s)\n",
    "print('the position of the file object is: ',f_obj.tell())\n",
    "f_obj.close()"
   ]
  },
  {
   "cell_type": "code",
   "execution_count": 106,
   "id": "7cdfbf4e",
   "metadata": {},
   "outputs": [
    {
     "name": "stdout",
     "output_type": "stream",
     "text": [
      "now we are at:  0\n"
     ]
    }
   ],
   "source": [
    "f_obj = open('first.txt', 'r')\n",
    "f_obj.seek(0) # taking file object to the beginning of the file\n",
    "print('now we are at: ', f_obj.tell())"
   ]
  },
  {
   "cell_type": "code",
   "execution_count": 108,
   "id": "038dd9a6",
   "metadata": {},
   "outputs": [
    {
     "name": "stdout",
     "output_type": "stream",
     "text": [
      "e first line\n"
     ]
    }
   ],
   "source": [
    "f_obj.seek(10)\n",
    "s = f_obj.read()\n",
    "print(s)\n",
    "f.close()"
   ]
  },
  {
   "cell_type": "code",
   "execution_count": 102,
   "id": "5feacaa2",
   "metadata": {},
   "outputs": [
    {
     "name": "stdout",
     "output_type": "stream",
     "text": [
      "Writing data into the file:\n",
      "\n",
      "Enter a sentence: hai\n",
      "still want to write more line?(y\n",
      "): y\n",
      "Enter a sentence: how are you\n",
      "still want to write more line?(y\n",
      "): y\n",
      "Enter a sentence: what are you doing\n",
      "still want to write more line?(y\n",
      "): n\n",
      "position of file object is:  38\n",
      "\n",
      "Reading data from the file: \n",
      "hai\n",
      "how are you\n",
      "what are you doing\n",
      "\n"
     ]
    }
   ],
   "source": [
    "f = open('second.txt', 'w+')\n",
    "print('Writing data into the file:\\n')\n",
    "while True:\n",
    "    line = input('Enter a sentence: ')\n",
    "    f.write(line)\n",
    "    f.write('\\n')\n",
    "    choice= input('still want to write more line?(y\\n): ')\n",
    "    if choice in ('n', 'N'):\n",
    "        break\n",
    "print('position of file object is: ', f.tell())\n",
    "f.seek(0)\n",
    "print()\n",
    "print('Reading data from the file: ')\n",
    "print(f.read())\n",
    "f.close()\n"
   ]
  },
  {
   "cell_type": "code",
   "execution_count": null,
   "id": "f60a045e",
   "metadata": {},
   "outputs": [],
   "source": []
  }
 ],
 "metadata": {
  "kernelspec": {
   "display_name": "Python 3 (ipykernel)",
   "language": "python",
   "name": "python3"
  },
  "language_info": {
   "codemirror_mode": {
    "name": "ipython",
    "version": 3
   },
   "file_extension": ".py",
   "mimetype": "text/x-python",
   "name": "python",
   "nbconvert_exporter": "python",
   "pygments_lexer": "ipython3",
   "version": "3.8.5"
  }
 },
 "nbformat": 4,
 "nbformat_minor": 5
}
